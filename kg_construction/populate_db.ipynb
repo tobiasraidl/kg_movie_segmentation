{
 "cells": [
  {
   "cell_type": "markdown",
   "metadata": {},
   "source": [
    "# Preprocess Data and Create Knowledge Graph"
   ]
  },
  {
   "cell_type": "markdown",
   "metadata": {},
   "source": [
    "Insert neo4j db credentials here"
   ]
  },
  {
   "cell_type": "code",
   "execution_count": 4,
   "metadata": {},
   "outputs": [],
   "source": [
    "from neo4j import GraphDatabase\n",
    "URI = \"neo4j://localhost:7687\"\n",
    "AUTH = (\"neo4j\", \"password\")"
   ]
  },
  {
   "cell_type": "markdown",
   "metadata": {},
   "source": [
    "### Prepare Ratings Dataframe"
   ]
  },
  {
   "cell_type": "code",
   "execution_count": 9,
   "metadata": {},
   "outputs": [
    {
     "data": {
      "text/html": [
       "<div>\n",
       "<style scoped>\n",
       "    .dataframe tbody tr th:only-of-type {\n",
       "        vertical-align: middle;\n",
       "    }\n",
       "\n",
       "    .dataframe tbody tr th {\n",
       "        vertical-align: top;\n",
       "    }\n",
       "\n",
       "    .dataframe thead th {\n",
       "        text-align: right;\n",
       "    }\n",
       "</style>\n",
       "<table border=\"1\" class=\"dataframe\">\n",
       "  <thead>\n",
       "    <tr style=\"text-align: right;\">\n",
       "      <th></th>\n",
       "      <th>user_id</th>\n",
       "      <th>movie_id</th>\n",
       "      <th>rating</th>\n",
       "    </tr>\n",
       "  </thead>\n",
       "  <tbody>\n",
       "    <tr>\n",
       "      <th>0</th>\n",
       "      <td>1</td>\n",
       "      <td>1</td>\n",
       "      <td>4.0</td>\n",
       "    </tr>\n",
       "    <tr>\n",
       "      <th>1</th>\n",
       "      <td>1</td>\n",
       "      <td>3</td>\n",
       "      <td>4.0</td>\n",
       "    </tr>\n",
       "    <tr>\n",
       "      <th>2</th>\n",
       "      <td>1</td>\n",
       "      <td>6</td>\n",
       "      <td>4.0</td>\n",
       "    </tr>\n",
       "    <tr>\n",
       "      <th>3</th>\n",
       "      <td>1</td>\n",
       "      <td>47</td>\n",
       "      <td>5.0</td>\n",
       "    </tr>\n",
       "    <tr>\n",
       "      <th>4</th>\n",
       "      <td>1</td>\n",
       "      <td>50</td>\n",
       "      <td>5.0</td>\n",
       "    </tr>\n",
       "    <tr>\n",
       "      <th>...</th>\n",
       "      <td>...</td>\n",
       "      <td>...</td>\n",
       "      <td>...</td>\n",
       "    </tr>\n",
       "    <tr>\n",
       "      <th>100831</th>\n",
       "      <td>610</td>\n",
       "      <td>166534</td>\n",
       "      <td>4.0</td>\n",
       "    </tr>\n",
       "    <tr>\n",
       "      <th>100832</th>\n",
       "      <td>610</td>\n",
       "      <td>168248</td>\n",
       "      <td>5.0</td>\n",
       "    </tr>\n",
       "    <tr>\n",
       "      <th>100833</th>\n",
       "      <td>610</td>\n",
       "      <td>168250</td>\n",
       "      <td>5.0</td>\n",
       "    </tr>\n",
       "    <tr>\n",
       "      <th>100834</th>\n",
       "      <td>610</td>\n",
       "      <td>168252</td>\n",
       "      <td>5.0</td>\n",
       "    </tr>\n",
       "    <tr>\n",
       "      <th>100835</th>\n",
       "      <td>610</td>\n",
       "      <td>170875</td>\n",
       "      <td>3.0</td>\n",
       "    </tr>\n",
       "  </tbody>\n",
       "</table>\n",
       "<p>100836 rows × 3 columns</p>\n",
       "</div>"
      ],
      "text/plain": [
       "        user_id  movie_id  rating\n",
       "0             1         1     4.0\n",
       "1             1         3     4.0\n",
       "2             1         6     4.0\n",
       "3             1        47     5.0\n",
       "4             1        50     5.0\n",
       "...         ...       ...     ...\n",
       "100831      610    166534     4.0\n",
       "100832      610    168248     5.0\n",
       "100833      610    168250     5.0\n",
       "100834      610    168252     5.0\n",
       "100835      610    170875     3.0\n",
       "\n",
       "[100836 rows x 3 columns]"
      ]
     },
     "metadata": {},
     "output_type": "display_data"
    },
    {
     "name": "stdout",
     "output_type": "stream",
     "text": [
      "NaN Ratios\n",
      "user_id     0.0\n",
      "movie_id    0.0\n",
      "rating      0.0\n",
      "dtype: float64\n"
     ]
    }
   ],
   "source": [
    "import pandas as pd\n",
    "\n",
    "ratings = pd.read_csv(\"data/ml_small/ratings.csv\")\n",
    "ratings.drop(labels=[\"timestamp\"], axis=1, inplace=True)\n",
    "ratings.rename(columns={'userId': 'user_id', 'movieId': 'movie_id'}, inplace=True)\n",
    "display(ratings)\n",
    "nan_ratio = ratings.isna().mean()\n",
    "print(\"NaN Ratios\")\n",
    "print(nan_ratio)"
   ]
  },
  {
   "cell_type": "markdown",
   "metadata": {},
   "source": [
    "### Sample\n",
    "The original dataset includes > 100k ratings. This is too much to handle for my local machine. Therefore I apply a stratified split in order to not reduce the average number of ratings per user. You can change the variable `DIVISOR` according to the desired data size. 2 for example halves the original dataset, 3 cuts into thirds, etc."
   ]
  },
  {
   "cell_type": "code",
   "execution_count": 2,
   "metadata": {},
   "outputs": [
    {
     "name": "stdout",
     "output_type": "stream",
     "text": [
      "6722\n",
      "305\n",
      "45211\n"
     ]
    }
   ],
   "source": [
    "from sklearn.model_selection import train_test_split\n",
    "import numpy as np\n",
    "\n",
    "DIVISOR = 2\n",
    "\n",
    "# Step 1: Get unique user IDs\n",
    "unique_user_ids = ratings['user_id'].unique()\n",
    "\n",
    "# Step 2: Shuffle the user IDs\n",
    "np.random.shuffle(unique_user_ids)\n",
    "\n",
    "# Step 3: Split the user IDs into two parts\n",
    "split_index = len(unique_user_ids) // DIVISOR\n",
    "user_ids_split_1 = unique_user_ids[:split_index]\n",
    "user_ids_split_2 = unique_user_ids[split_index:]\n",
    "\n",
    "# Step 4: Create the splits in the DataFrame\n",
    "df_split_1 = ratings[ratings['user_id'].isin(user_ids_split_1)]\n",
    "df_split_2 = ratings[ratings['user_id'].isin(user_ids_split_2)]\n",
    "\n",
    "# Step 5: Train test split stratified on user_id column so that all user_ids of test set are known already in train set\n",
    "ratings_reduced = df_split_1\n",
    "ratings_train, ratings_test = train_test_split(ratings_reduced, test_size=0.3, stratify=ratings_reduced['user_id'], random_state=11717659)\n",
    "\n",
    "assert set(ratings_train['user_id']) == set(ratings_test['user_id'])\n",
    "\n",
    "unique_movie_ids = ratings_reduced[\"movie_id\"].unique()\n",
    "print(len(ratings_reduced[\"movie_id\"].unique()))\n",
    "print(len(ratings_reduced[\"user_id\"].unique()))\n",
    "print(len(ratings_reduced.index))"
   ]
  },
  {
   "cell_type": "markdown",
   "metadata": {},
   "source": [
    "### Prepare Movies Dataframe\n",
    "Remove movies that are not rated"
   ]
  },
  {
   "cell_type": "code",
   "execution_count": 3,
   "metadata": {},
   "outputs": [
    {
     "data": {
      "text/html": [
       "<div>\n",
       "<style scoped>\n",
       "    .dataframe tbody tr th:only-of-type {\n",
       "        vertical-align: middle;\n",
       "    }\n",
       "\n",
       "    .dataframe tbody tr th {\n",
       "        vertical-align: top;\n",
       "    }\n",
       "\n",
       "    .dataframe thead th {\n",
       "        text-align: right;\n",
       "    }\n",
       "</style>\n",
       "<table border=\"1\" class=\"dataframe\">\n",
       "  <thead>\n",
       "    <tr style=\"text-align: right;\">\n",
       "      <th></th>\n",
       "      <th>movie_id</th>\n",
       "      <th>title</th>\n",
       "      <th>genres</th>\n",
       "      <th>year</th>\n",
       "    </tr>\n",
       "  </thead>\n",
       "  <tbody>\n",
       "    <tr>\n",
       "      <th>0</th>\n",
       "      <td>1</td>\n",
       "      <td>Toy Story (1995)</td>\n",
       "      <td>[Adventure, Animation, Children, Comedy, Fantasy]</td>\n",
       "      <td>1995</td>\n",
       "    </tr>\n",
       "    <tr>\n",
       "      <th>1</th>\n",
       "      <td>2</td>\n",
       "      <td>Jumanji (1995)</td>\n",
       "      <td>[Adventure, Children, Fantasy]</td>\n",
       "      <td>1995</td>\n",
       "    </tr>\n",
       "    <tr>\n",
       "      <th>2</th>\n",
       "      <td>3</td>\n",
       "      <td>Grumpier Old Men (1995)</td>\n",
       "      <td>[Comedy, Romance]</td>\n",
       "      <td>1995</td>\n",
       "    </tr>\n",
       "    <tr>\n",
       "      <th>3</th>\n",
       "      <td>4</td>\n",
       "      <td>Waiting to Exhale (1995)</td>\n",
       "      <td>[Comedy, Drama, Romance]</td>\n",
       "      <td>1995</td>\n",
       "    </tr>\n",
       "    <tr>\n",
       "      <th>4</th>\n",
       "      <td>5</td>\n",
       "      <td>Father of the Bride Part II (1995)</td>\n",
       "      <td>[Comedy]</td>\n",
       "      <td>1995</td>\n",
       "    </tr>\n",
       "    <tr>\n",
       "      <th>...</th>\n",
       "      <td>...</td>\n",
       "      <td>...</td>\n",
       "      <td>...</td>\n",
       "      <td>...</td>\n",
       "    </tr>\n",
       "    <tr>\n",
       "      <th>9736</th>\n",
       "      <td>193579</td>\n",
       "      <td>Jon Stewart Has Left the Building (2015)</td>\n",
       "      <td>[Documentary]</td>\n",
       "      <td>2015</td>\n",
       "    </tr>\n",
       "    <tr>\n",
       "      <th>9737</th>\n",
       "      <td>193581</td>\n",
       "      <td>Black Butler: Book of the Atlantic (2017)</td>\n",
       "      <td>[Action, Animation, Comedy, Fantasy]</td>\n",
       "      <td>2017</td>\n",
       "    </tr>\n",
       "    <tr>\n",
       "      <th>9738</th>\n",
       "      <td>193583</td>\n",
       "      <td>No Game No Life: Zero (2017)</td>\n",
       "      <td>[Animation, Comedy, Fantasy]</td>\n",
       "      <td>2017</td>\n",
       "    </tr>\n",
       "    <tr>\n",
       "      <th>9739</th>\n",
       "      <td>193585</td>\n",
       "      <td>Flint (2017)</td>\n",
       "      <td>[Drama]</td>\n",
       "      <td>2017</td>\n",
       "    </tr>\n",
       "    <tr>\n",
       "      <th>9740</th>\n",
       "      <td>193587</td>\n",
       "      <td>Bungo Stray Dogs: Dead Apple (2018)</td>\n",
       "      <td>[Action, Animation]</td>\n",
       "      <td>2018</td>\n",
       "    </tr>\n",
       "  </tbody>\n",
       "</table>\n",
       "<p>6722 rows × 4 columns</p>\n",
       "</div>"
      ],
      "text/plain": [
       "      movie_id                                      title  \\\n",
       "0            1                           Toy Story (1995)   \n",
       "1            2                             Jumanji (1995)   \n",
       "2            3                    Grumpier Old Men (1995)   \n",
       "3            4                   Waiting to Exhale (1995)   \n",
       "4            5         Father of the Bride Part II (1995)   \n",
       "...        ...                                        ...   \n",
       "9736    193579   Jon Stewart Has Left the Building (2015)   \n",
       "9737    193581  Black Butler: Book of the Atlantic (2017)   \n",
       "9738    193583               No Game No Life: Zero (2017)   \n",
       "9739    193585                               Flint (2017)   \n",
       "9740    193587        Bungo Stray Dogs: Dead Apple (2018)   \n",
       "\n",
       "                                                 genres  year  \n",
       "0     [Adventure, Animation, Children, Comedy, Fantasy]  1995  \n",
       "1                        [Adventure, Children, Fantasy]  1995  \n",
       "2                                     [Comedy, Romance]  1995  \n",
       "3                              [Comedy, Drama, Romance]  1995  \n",
       "4                                              [Comedy]  1995  \n",
       "...                                                 ...   ...  \n",
       "9736                                      [Documentary]  2015  \n",
       "9737               [Action, Animation, Comedy, Fantasy]  2017  \n",
       "9738                       [Animation, Comedy, Fantasy]  2017  \n",
       "9739                                            [Drama]  2017  \n",
       "9740                                [Action, Animation]  2018  \n",
       "\n",
       "[6722 rows x 4 columns]"
      ]
     },
     "metadata": {},
     "output_type": "display_data"
    },
    {
     "name": "stdout",
     "output_type": "stream",
     "text": [
      "NaN Ratios\n",
      "movie_id    0.0\n",
      "title       0.0\n",
      "genres      0.0\n",
      "year        0.0\n",
      "dtype: float64\n"
     ]
    }
   ],
   "source": [
    "movies = pd.read_csv(\"data/ml_small/movies.csv\")\n",
    "movies.rename(columns={'movieId': 'movie_id'}, inplace=True)\n",
    "# Remove movies that are are never rated in train or test set\n",
    "movies = movies[movies[\"movie_id\"].isin(unique_movie_ids)]\n",
    "\n",
    "movies[\"genres\"] = movies[\"genres\"].str.split(\"|\")\n",
    "movies[\"year\"] = movies[\"title\"].str.extract(r'\\((\\d{4})\\)')\n",
    "movies['year'] = pd.to_numeric(movies['year'], errors='coerce')\n",
    "movies['year'] = movies['year'].fillna(movies[\"year\"].median()).astype(int)\n",
    "movies[\"genres\"] = movies[\"genres\"].apply(lambda x: [] if x == [\"(no genres listed)\"] else x)\n",
    "\n",
    "display(movies)\n",
    "nan_ratio = movies.isna().mean()\n",
    "print(\"NaN Ratios\")\n",
    "print(nan_ratio)"
   ]
  },
  {
   "cell_type": "markdown",
   "metadata": {},
   "source": [
    "### Populate Neo4j Database as Knowledge Graph"
   ]
  },
  {
   "cell_type": "code",
   "execution_count": 5,
   "metadata": {},
   "outputs": [],
   "source": [
    "def reset_db(driver):\n",
    "    driver.execute_query(\n",
    "    \"MATCH (n)\"\n",
    "    \"DETACH DELETE n\",\n",
    "    database_=\"neo4j\")"
   ]
  },
  {
   "cell_type": "code",
   "execution_count": 6,
   "metadata": {},
   "outputs": [],
   "source": [
    "def create_movies(driver):\n",
    "    counter = 0\n",
    "    movies_len = movies.shape[0]\n",
    "    for _, row in movies.iterrows():\n",
    "        print(f\"Relations added: {counter} / {movies_len}\", end=\"\\r\")\n",
    "        counter += 1\n",
    "        driver.execute_query(\n",
    "            \"\"\"\n",
    "            MERGE (m:Movie {movie_id: $movie_id, title: $title})\n",
    "            MERGE (y:Year {year: $year})\n",
    "            MERGE (m)-[:RELEASED_IN]->(y)\n",
    "            \"\"\",\n",
    "            movie_id = row[\"movie_id\"], title = row[\"title\"],\n",
    "            year = row[\"year\"], database_ = \"neo4j\")\n",
    "        for genre in row[\"genres\"]:\n",
    "            driver.execute_query(\n",
    "                \"\"\"\n",
    "                MATCH (m:Movie {movie_id: $movie_id})\n",
    "                MERGE (g:Genre {name: $genre})\n",
    "                MERGE (m)-[:OF_GENRE]->(g)\n",
    "                \"\"\",\n",
    "                movie_id = row[\"movie_id\"], title = row[\"title\"],\n",
    "                genre = genre, year = row[\"year\"], database_ = \"neo4j\")\n",
    "    print(\"Movie and year nodes and RELEASED_IN relation added.\")"
   ]
  },
  {
   "cell_type": "code",
   "execution_count": 7,
   "metadata": {},
   "outputs": [],
   "source": [
    "def create_user_ratings(driver):\n",
    "    counter = 0\n",
    "    ratings_train_len = ratings_train.shape[0]\n",
    "    for _, row in ratings_train.iterrows():\n",
    "        if row[\"rating\"] == 3:\n",
    "            continue\n",
    "        print(f\"Relations added: {counter} / {ratings_train_len}\", end=\"\\r\")\n",
    "        counter += 1\n",
    "        driver.execute_query(\n",
    "            f\"\"\"\n",
    "            MERGE (u:User {{user_id: $user_id}})\n",
    "            WITH u\n",
    "            MATCH (m:Movie {{movie_id: $movie_id}})\n",
    "            MERGE (u)-[:RATED {{rating: $rating}}]->(m)\n",
    "            \"\"\",\n",
    "            user_id = row[\"user_id\"], movie_id = row[\"movie_id\"],\n",
    "            rating = row[\"rating\"], database_ = \"neo4j\")\n",
    "    print(\"Rating relations and user nodes added.\")"
   ]
  },
  {
   "cell_type": "code",
   "execution_count": 8,
   "metadata": {},
   "outputs": [
    {
     "name": "stdout",
     "output_type": "stream",
     "text": [
      "Movie and year nodes and RELEASED_IN relation added.\n",
      "Rating relations and user nodes added.\n"
     ]
    }
   ],
   "source": [
    "with GraphDatabase.driver(URI, auth=AUTH) as driver:\n",
    "    reset_db(driver)\n",
    "    create_movies(driver)\n",
    "    create_user_ratings(driver)"
   ]
  }
 ],
 "metadata": {
  "kernelspec": {
   "display_name": "STONKSKG",
   "language": "python",
   "name": "python3"
  },
  "language_info": {
   "codemirror_mode": {
    "name": "ipython",
    "version": 3
   },
   "file_extension": ".py",
   "mimetype": "text/x-python",
   "name": "python",
   "nbconvert_exporter": "python",
   "pygments_lexer": "ipython3",
   "version": "3.12.4"
  }
 },
 "nbformat": 4,
 "nbformat_minor": 2
}
